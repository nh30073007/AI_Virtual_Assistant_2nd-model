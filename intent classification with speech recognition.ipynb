{
 "cells": [
  {
   "cell_type": "code",
   "execution_count": 1,
   "id": "b773cc3a",
   "metadata": {},
   "outputs": [
    {
     "name": "stderr",
     "output_type": "stream",
     "text": [
      "C:\\Users\\nh013\\anaconda3\\lib\\site-packages\\pydub\\utils.py:170: RuntimeWarning: Couldn't find ffmpeg or avconv - defaulting to ffmpeg, but may not work\n",
      "  warn(\"Couldn't find ffmpeg or avconv - defaulting to ffmpeg, but may not work\", RuntimeWarning)\n"
     ]
    },
    {
     "name": "stdout",
     "output_type": "stream",
     "text": [
      "Recognized Text: I don't know I don't know I don't know how to check\n"
     ]
    }
   ],
   "source": [
    "#PERFORM SPEECH RECOGNITION....\n",
    "\n",
    "\n",
    "import speech_recognition as sr\n",
    "from pydub import AudioSegment\n",
    "\n",
    "# DATA\n",
    "audio_path = r\"C:\\Users\\nh013\\Desktop\\customer service voice wav\\audio-second-model.wav\"\n",
    "# Convert audio file to WAV format\n",
    "output_path = \"path_to_output_file.wav\"\n",
    "audio = AudioSegment.from_file(audio_path, format=\"mp3\")\n",
    "audio.export(output_path, format=\"wav\")\n",
    "\n",
    "# INITIALIZE THE RCOGNIZER\n",
    "r = sr.Recognizer()\n",
    "\n",
    "# AUDIO FILE PATH\n",
    "with sr.AudioFile(output_path) as source:\n",
    "    audio = r.record(source)\n",
    "\n",
    "# SPEECH RECOGNITION\n",
    "text = r.recognize_google(audio)\n",
    "\n",
    "\n",
    "print(\"Recognized Text:\", text)"
   ]
  },
  {
   "cell_type": "code",
   "execution_count": null,
   "id": "0d8546eb",
   "metadata": {},
   "outputs": [],
   "source": []
  },
  {
   "cell_type": "code",
   "execution_count": 2,
   "id": "987c352d",
   "metadata": {},
   "outputs": [
    {
     "name": "stdout",
     "output_type": "stream",
     "text": [
      "Recognized Text: I don't know I don't know I don't know how to check\n",
      "Predicted Intent: track_order\n"
     ]
    }
   ],
   "source": [
    "#PERFORM INTENT CLASSIFICATION AND SPEECH RECOGNITON TOGETHER\n",
    "\n",
    "import speech_recognition as sr\n",
    "import pandas as pd\n",
    "from sklearn.feature_extraction.text import TfidfVectorizer\n",
    "from sklearn.naive_bayes import MultinomialNB\n",
    "from sklearn.metrics import classification_report\n",
    "from pydub import AudioSegment\n",
    "\n",
    "# AUDIO FILE\n",
    "audio_path = r\"C:\\Users\\nh013\\Desktop\\customer service voice wav\\audio-second-model.wav\"\n",
    "\n",
    "# INITIALIZE THE RCOGNIZER\n",
    "r = sr.Recognizer()\n",
    "\n",
    "# AUDIO FILE PATH\n",
    "with sr.AudioFile(audio_path) as source:\n",
    "    audio = r.record(source)\n",
    "\n",
    "# SPEECH RECOGNITION\n",
    "text = r.recognize_google(audio)\n",
    "\n",
    "\n",
    "print(\"Recognized Text:\", text)\n",
    "\n",
    "# DATASET\n",
    "df = pd.read_csv(r'C:\\\\Users\\\\nh013\\\\Desktop\\\\virtual assistant data\\\\Bitext_Sample_Customer_Service_Evaluation_Dataset.csv')\n",
    "\n",
    "# VECTORIZED THE TEXT DATA\n",
    "vectorizer = TfidfVectorizer()\n",
    "X = df['utterance']\n",
    "y = df['intent']\n",
    "X_vectorized = vectorizer.fit_transform(X)\n",
    "\n",
    "# TRAIN NAIVE BAYS CLASSIFIER\n",
    "classifier = MultinomialNB()\n",
    "classifier.fit(X_vectorized, y)\n",
    "\n",
    "# VECTORIZED RECOGNIZED DATA\n",
    "text_vectorized = vectorizer.transform([text])\n",
    "\n",
    "# PREDICT THE INTENT\n",
    "intent = classifier.predict(text_vectorized)\n",
    "\n",
    "\n",
    "print(\"Predicted Intent:\", intent[0])"
   ]
  },
  {
   "cell_type": "code",
   "execution_count": null,
   "id": "b5d44a01",
   "metadata": {},
   "outputs": [],
   "source": []
  }
 ],
 "metadata": {
  "kernelspec": {
   "display_name": "Python 3 (ipykernel)",
   "language": "python",
   "name": "python3"
  },
  "language_info": {
   "codemirror_mode": {
    "name": "ipython",
    "version": 3
   },
   "file_extension": ".py",
   "mimetype": "text/x-python",
   "name": "python",
   "nbconvert_exporter": "python",
   "pygments_lexer": "ipython3",
   "version": "3.10.9"
  }
 },
 "nbformat": 4,
 "nbformat_minor": 5
}
