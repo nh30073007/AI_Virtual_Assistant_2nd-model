{
 "cells": [
  {
   "cell_type": "code",
   "execution_count": 1,
   "id": "27e5586e",
   "metadata": {},
   "outputs": [
    {
     "name": "stderr",
     "output_type": "stream",
     "text": [
      "C:\\Users\\nh013\\anaconda3\\lib\\site-packages\\pydub\\utils.py:170: RuntimeWarning: Couldn't find ffmpeg or avconv - defaulting to ffmpeg, but may not work\n",
      "  warn(\"Couldn't find ffmpeg or avconv - defaulting to ffmpeg, but may not work\", RuntimeWarning)\n"
     ]
    },
    {
     "name": "stdout",
     "output_type": "stream",
     "text": [
      "Recognized Text: I don't know I don't know I don't know how to check\n",
      "Predicted Intent: track_order\n"
     ]
    },
    {
     "data": {
      "text/plain": [
       "<Popen: returncode: None args: ['start', 'C:\\\\\\\\Users\\\\\\\\nh013\\\\\\\\Desktop\\\\\\...>"
      ]
     },
     "execution_count": 1,
     "metadata": {},
     "output_type": "execute_result"
    }
   ],
   "source": [
    "#VOICE RESPONSE GENERATION\n",
    "\n",
    "\n",
    "import speech_recognition as sr\n",
    "import pandas as pd\n",
    "from sklearn.feature_extraction.text import TfidfVectorizer\n",
    "from sklearn.naive_bayes import MultinomialNB\n",
    "import pyttsx3\n",
    "import time\n",
    "from pydub import AudioSegment\n",
    "import subprocess\n",
    "\n",
    "# AUDIO FILE\n",
    "audio_path = r\"C:\\Users\\nh013\\Desktop\\customer service voice wav\\audio-second-model.wav\"\n",
    "\n",
    "# INITIALIZE THE RCOGNIZER\n",
    "r = sr.Recognizer()\n",
    "\n",
    "# AUDIO FILE PATH\n",
    "with sr.AudioFile(audio_path) as source:\n",
    "    audio = r.record(source)\n",
    "\n",
    "# SPEECH RECOGNITION\n",
    "text = r.recognize_google(audio)\n",
    "\n",
    "\n",
    "print(\"Recognized Text:\", text)\n",
    "\n",
    "\n",
    "\n",
    "# RDATASET\n",
    "df = pd.read_csv(r'C:\\\\Users\\\\nh013\\\\Desktop\\\\virtual assistant data\\\\Bitext_Sample_Customer_Service_Evaluation_Dataset.csv')\n",
    "\n",
    "# VECTORIZED TEXT DATA\n",
    "vectorizer = TfidfVectorizer()\n",
    "X = df['utterance']\n",
    "y = df['intent']\n",
    "X_vectorized = vectorizer.fit_transform(X)\n",
    "\n",
    "# TRAIN NAIVE BAYS CLASSIFIRE\n",
    "classifier = MultinomialNB()\n",
    "classifier.fit(X_vectorized, y)\n",
    "\n",
    "# VECTORIZED THE RECOGNIZED TEXT\n",
    "text_vectorized = vectorizer.transform([text])\n",
    "\n",
    "# PREDICT THE INTENT\n",
    "intent = classifier.predict(text_vectorized)\n",
    "\n",
    "\n",
    "print(\"Predicted Intent:\", intent[0])\n",
    "\n",
    "response = \"\"  # Default response\n",
    "if intent[0] == 'cancel_order':\n",
    "    response = \"Your order cancellation request has been processed.\"\n",
    "elif intent[0] == 'change_order':\n",
    "    response = \"Your order has been successfully modified.\"\n",
    "elif intent[0] == 'check_invoice':\n",
    "    response = \"Here is the invoice for your recent purchase.\"\n",
    "\n",
    "\n",
    "# INITIALIZE THE TEXT TO SPEECH  ENGINE\n",
    "engine = pyttsx3.init()\n",
    "\n",
    "\n",
    "# SET   THE   VOICE RATE\n",
    "engine.setProperty('rate', 150)  
    "\n",
    "\n",
    "# SET    THE    VOICE  VOLUME\n",
    "engine.setProperty('volume', 0.7)  
    "\n",
    "# SAVE THE VOICE RESPONSE AUDIO FILE\n",
    "output_path = r\"C:\\\\Users\\\\nh013\\\\Desktop\\\\output.wav\"\n",
    "engine.save_to_file(response, output_path)\n",
    "engine.runAndWait()\n",
    "\n",
    "# PLAY IN DEFULT AUDIO PLAYER\n",
    "subprocess.Popen(['start', output_path], shell=True)"
   ]
  },
  {
   "cell_type": "code",
   "execution_count": null,
   "id": "1e230690",
   "metadata": {},
   "outputs": [],
   "source": []
  }
 ],
 "metadata": {
  "kernelspec": {
   "display_name": "Python 3 (ipykernel)",
   "language": "python",
   "name": "python3"
  },
  "language_info": {
   "codemirror_mode": {
    "name": "ipython",
    "version": 3
   },
   "file_extension": ".py",
   "mimetype": "text/x-python",
   "name": "python",
   "nbconvert_exporter": "python",
   "pygments_lexer": "ipython3",
   "version": "3.10.9"
  }
 },
 "nbformat": 4,
 "nbformat_minor": 5
}
