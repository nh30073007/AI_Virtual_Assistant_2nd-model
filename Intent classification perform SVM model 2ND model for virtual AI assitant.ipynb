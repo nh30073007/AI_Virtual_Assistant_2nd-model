{
 "cells": [
  {
   "cell_type": "code",
   "execution_count": 1,
   "id": "5a57a116",
   "metadata": {},
   "outputs": [
    {
     "name": "stdout",
     "output_type": "stream",
     "text": [
      "Classification Report:\n",
      "                           precision    recall  f1-score   support\n",
      "\n",
      "            cancel_order       0.99      0.99      0.99      1424\n",
      "            change_order       0.99      0.98      0.99      1990\n",
      " change_shipping_address       1.00      0.99      1.00      1963\n",
      "  check_cancellation_fee       1.00      1.00      1.00      2040\n",
      "           check_invoice       0.99      1.00      1.00      1995\n",
      "   check_payment_methods       1.00      1.00      1.00      1927\n",
      "     check_refund_policy       1.00      1.00      1.00      1961\n",
      "               complaint       1.00      1.00      1.00      1971\n",
      "contact_customer_service       1.00      1.00      1.00      1588\n",
      "     contact_human_agent       1.00      1.00      1.00      1599\n",
      "          create_account       1.00      1.00      1.00      1963\n",
      "          delete_account       0.99      1.00      1.00      2012\n",
      "        delivery_options       1.00      1.00      1.00      2037\n",
      "         delivery_period       1.00      1.00      1.00      2035\n",
      "            edit_account       1.00      1.00      1.00      2049\n",
      "             get_invoice       1.00      0.99      1.00      1947\n",
      "              get_refund       0.99      1.00      1.00      1964\n",
      " newsletter_subscription       1.00      1.00      1.00      1757\n",
      "           payment_issue       1.00      1.00      1.00      2000\n",
      "             place_order       0.99      1.00      0.99      2018\n",
      "        recover_password       1.00      1.00      1.00      2020\n",
      "   registration_problems       1.00      1.00      1.00      2022\n",
      "                  review       1.00      1.00      1.00      1952\n",
      " set_up_shipping_address       1.00      1.00      1.00      2145\n",
      "          switch_account       1.00      0.99      1.00      1576\n",
      "             track_order       1.00      0.99      0.99      1960\n",
      "            track_refund       0.99      1.00      0.99      1960\n",
      "\n",
      "                accuracy                           1.00     51875\n",
      "               macro avg       1.00      1.00      1.00     51875\n",
      "            weighted avg       1.00      1.00      1.00     51875\n",
      "\n"
     ]
    }
   ],
   "source": [
    "# Intent classisfication\n",
    "\n",
    "\n",
    "import pandas as pd\n",
    "import nltk\n",
    "from nltk.corpus import stopwords\n",
    "from nltk.stem import WordNetLemmatizer\n",
    "import re\n",
    "from sklearn.feature_extraction.text import TfidfVectorizer\n",
    "from sklearn.svm import SVC\n",
    "from sklearn.model_selection import train_test_split\n",
    "from sklearn.metrics import classification_report\n",
    "\n",
    "# Read the CSV file into a DataFrame\n",
    "df = pd.read_csv('C:\\\\Users\\\\nh013\\\\Desktop\\\\virtual assistant data\\\\Bitext_Sample_Customer_Service_Evaluation_Dataset.csv')\n",
    "\n",
    "# Remove any rows with missing values\n",
    "df.dropna(inplace=True)\n",
    "\n",
    "# Remove any special characters and convert text to lowercase\n",
    "df['utterance'] = df['utterance'].apply(lambda x: re.sub(r'[^\\w\\s]', '', x.lower()))\n",
    "\n",
    "# Remove stopwords\n",
    "stop_words = set(stopwords.words('english'))\n",
    "df['utterance'] = df['utterance'].apply(lambda x: ' '.join([word for word in x.split() if word not in stop_words]))\n",
    "\n",
    "# Lemmatization\n",
    "lemmatizer = WordNetLemmatizer()\n",
    "df['utterance'] = df['utterance'].apply(lambda x: ' '.join([lemmatizer.lemmatize(word) for word in x.split()]))\n",
    "\n",
    "# Split the data into training and testing sets\n",
    "X = df['utterance']\n",
    "y = df['intent']\n",
    "X_train, X_test, y_train, y_test = train_test_split(X, y, test_size=0.2, random_state=42)\n",
    "\n",
    "# Vectorize the text data\n",
    "vectorizer = TfidfVectorizer()\n",
    "X_train_vectorized = vectorizer.fit_transform(X_train)\n",
    "X_test_vectorized = vectorizer.transform(X_test)\n",
    "\n",
    "# Train the SVM model\n",
    "svm = SVC()\n",
    "svm.fit(X_train_vectorized, y_train)\n",
    "\n",
    "# Predict the intent for the test set\n",
    "y_pred = svm.predict(X_test_vectorized)\n",
    "\n",
    "# Evaluate the model\n",
    "report = classification_report(y_test, y_pred)\n",
    "print(\"Classification Report:\\n\", report)\n"
   ]
  },
  {
   "cell_type": "code",
   "execution_count": null,
   "id": "6256a3cf",
   "metadata": {},
   "outputs": [],
   "source": []
  },
  {
   "cell_type": "code",
   "execution_count": 2,
   "id": "23b3b477",
   "metadata": {},
   "outputs": [
    {
     "name": "stderr",
     "output_type": "stream",
     "text": [
      "[nltk_data] Downloading package stopwords to\n",
      "[nltk_data]     C:\\Users\\nh013\\AppData\\Roaming\\nltk_data...\n",
      "[nltk_data]   Package stopwords is already up-to-date!\n",
      "[nltk_data] Downloading package wordnet to\n",
      "[nltk_data]     C:\\Users\\nh013\\AppData\\Roaming\\nltk_data...\n",
      "[nltk_data]   Package wordnet is already up-to-date!\n"
     ]
    },
    {
     "data": {
      "text/plain": [
       "True"
      ]
     },
     "execution_count": 2,
     "metadata": {},
     "output_type": "execute_result"
    }
   ],
   "source": [
    "import nltk\n",
    "nltk.download('stopwords')\n",
    "nltk.download('wordnet')\n"
   ]
  },
  {
   "cell_type": "code",
   "execution_count": null,
   "id": "8db62aa9",
   "metadata": {},
   "outputs": [],
   "source": []
  }
 ],
 "metadata": {
  "kernelspec": {
   "display_name": "Python 3 (ipykernel)",
   "language": "python",
   "name": "python3"
  },
  "language_info": {
   "codemirror_mode": {
    "name": "ipython",
    "version": 3
   },
   "file_extension": ".py",
   "mimetype": "text/x-python",
   "name": "python",
   "nbconvert_exporter": "python",
   "pygments_lexer": "ipython3",
   "version": "3.10.9"
  }
 },
 "nbformat": 4,
 "nbformat_minor": 5
}
