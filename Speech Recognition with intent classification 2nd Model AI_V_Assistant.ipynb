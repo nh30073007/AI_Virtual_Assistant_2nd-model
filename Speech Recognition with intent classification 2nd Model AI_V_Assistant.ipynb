{
 "cells": [
  {
   "cell_type": "code",
   "execution_count": 6,
   "id": "12f52769",
   "metadata": {},
   "outputs": [
    {
     "name": "stdout",
     "output_type": "stream",
     "text": [
      "Recognized Text: I don't know I don't know I don't know how to check\n"
     ]
    }
   ],
   "source": [
    "#perform speech recognition....\n",
    "import speech_recognition as sr\n",
    "from pydub import AudioSegment\n",
    "\n",
    "# Path to the audio file\n",
    "audio_path = r\"C:\\Users\\nh013\\Desktop\\customer service voice wav\\audio-second-model.wav\"\n",
    "# Convert audio file to WAV format\n",
    "output_path = \"path_to_output_file.wav\"\n",
    "audio = AudioSegment.from_file(audio_path, format=\"mp3\")\n",
    "audio.export(output_path, format=\"wav\")\n",
    "\n",
    "# Initialize the recognizer\n",
    "r = sr.Recognizer()\n",
    "\n",
    "# Load the audio file\n",
    "with sr.AudioFile(output_path) as source:\n",
    "    audio = r.record(source)\n",
    "\n",
    "# Perform speech recognition\n",
    "text = r.recognize_google(audio)\n",
    "\n",
    "# Print the recognized text\n",
    "print(\"Recognized Text:\", text)\n"
   ]
  },
  {
   "cell_type": "code",
   "execution_count": null,
   "id": "0e0a0d9d",
   "metadata": {},
   "outputs": [],
   "source": []
  },
  {
   "cell_type": "code",
   "execution_count": 7,
   "id": "d4f3ec8b",
   "metadata": {},
   "outputs": [
    {
     "name": "stdout",
     "output_type": "stream",
     "text": [
      "Recognized Text: I don't know I don't know I don't know how to check\n",
      "Predicted Intent: track_order\n"
     ]
    }
   ],
   "source": [
    "#perform intent classification and speech recognition together\n",
    "\n",
    "import speech_recognition as sr\n",
    "import pandas as pd\n",
    "from sklearn.feature_extraction.text import TfidfVectorizer\n",
    "from sklearn.naive_bayes import MultinomialNB\n",
    "from sklearn.metrics import classification_report\n",
    "from pydub import AudioSegment\n",
    "\n",
    "# Path to the audio file\n",
    "audio_path = r\"C:\\Users\\nh013\\Desktop\\customer service voice wav\\audio-second-model.wav\"\n",
    "\n",
    "# Initialize the recognizer\n",
    "r = sr.Recognizer()\n",
    "\n",
    "# Load the audio file\n",
    "with sr.AudioFile(audio_path) as source:\n",
    "    audio = r.record(source)\n",
    "\n",
    "# Perform speech recognition\n",
    "text = r.recognize_google(audio)\n",
    "\n",
    "# Print the recognized text\n",
    "print(\"Recognized Text:\", text)\n",
    "\n",
    "# Read the preprocessed data into a DataFrame\n",
    "df = pd.read_csv(r'C:\\\\Users\\\\nh013\\\\Desktop\\\\virtual assistant data\\\\Bitext_Sample_Customer_Service_Evaluation_Dataset.csv')\n",
    "\n",
    "# Vectorize the text data\n",
    "vectorizer = TfidfVectorizer()\n",
    "X = df['utterance']\n",
    "y = df['intent']\n",
    "X_vectorized = vectorizer.fit_transform(X)\n",
    "\n",
    "# Train a Naive Bayes classifier\n",
    "classifier = MultinomialNB()\n",
    "classifier.fit(X_vectorized, y)\n",
    "\n",
    "# Vectorize the recognized text\n",
    "text_vectorized = vectorizer.transform([text])\n",
    "\n",
    "# Predict the intent\n",
    "intent = classifier.predict(text_vectorized)\n",
    "\n",
    "# Print the predicted intent\n",
    "print(\"Predicted Intent:\", intent[0])\n",
    "\n"
   ]
  },
  {
   "cell_type": "code",
   "execution_count": null,
   "id": "eba430be",
   "metadata": {},
   "outputs": [],
   "source": []
  },
  {
   "cell_type": "code",
   "execution_count": null,
   "id": "e29ba72f",
   "metadata": {},
   "outputs": [],
   "source": []
  }
 ],
 "metadata": {
  "kernelspec": {
   "display_name": "Python 3 (ipykernel)",
   "language": "python",
   "name": "python3"
  },
  "language_info": {
   "codemirror_mode": {
    "name": "ipython",
    "version": 3
   },
   "file_extension": ".py",
   "mimetype": "text/x-python",
   "name": "python",
   "nbconvert_exporter": "python",
   "pygments_lexer": "ipython3",
   "version": "3.10.9"
  }
 },
 "nbformat": 4,
 "nbformat_minor": 5
}
